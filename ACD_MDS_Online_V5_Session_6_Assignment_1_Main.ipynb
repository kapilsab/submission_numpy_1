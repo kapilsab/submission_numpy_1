{
 "cells": [
  {
   "cell_type": "code",
   "execution_count": 30,
   "metadata": {},
   "outputs": [
    {
     "data": {
      "text/plain": [
       "array([[ 1,  1,  1,  1],\n",
       "       [ 1,  2,  4,  8],\n",
       "       [ 1,  3,  9, 27]])"
      ]
     },
     "execution_count": 30,
     "metadata": {},
     "output_type": "execute_result"
    }
   ],
   "source": [
    "##################################### Session 6: Assignment 1 ################################\n",
    "#\n",
    "# Problem Statement 1:\n",
    "# Write a function so that the columns of the output matrix are powers of the input vector.\n",
    "# The order of the powers is determined by the increasing boolean argument. Specifically,\n",
    "# when increasing is False, the i-th output column is the input vector raised element-wise\n",
    "# to the power of N - i - 1.\n",
    "# HINT: Such a matrix with a geometric progression in each row is named for Alexandre-Theophile Vandermonde.\n",
    "#\n",
    "##############################################################################################\n",
    "\n",
    "import numpy as np\n",
    "\n",
    "\n",
    "def GeometricFunction(inputList, n):\n",
    "    returnArray = []\n",
    "    for items in inputList:\n",
    "        #print(items)\n",
    "        j=0\n",
    "        injectArray=[]\n",
    "        while j < n+1:\n",
    "            #print(\"j is\", j)\n",
    "            injectArray.append(items**j)\n",
    "            #print(injectArray)\n",
    "            j = j +1\n",
    "        returnArray.append(injectArray)\n",
    "    return np.asarray(returnArray)\n",
    "    \n",
    "GeometricFunction([1,2,3], 3)\n"
   ]
  }
 ],
 "metadata": {
  "kernelspec": {
   "display_name": "Python 3",
   "language": "python",
   "name": "python3"
  }
 },
 "nbformat": 4,
 "nbformat_minor": 2
}
